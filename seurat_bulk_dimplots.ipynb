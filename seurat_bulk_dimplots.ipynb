{
 "cells": [
  {
   "cell_type": "code",
   "execution_count": null,
   "metadata": {},
   "outputs": [],
   "source": [
    "library(Seurat)\n",
    "library(stringr)\n",
    "library(data.table)\n",
    "library(tidyverse)\n",
    "library(clusterProfiler)\n",
    "library(org.Hs.eg.db)\n",
    "library(ggplot2)\n",
    "library(cowplot)\n",
    "library(SingleR)\n",
    "library(xlsx)\n",
    "library(writexl)\n",
    "library(dplyr)\n",
    "library(ggrepel)\n",
    "library(svglite)\n",
    "library(Tempora)\n",
    "library(ggalluvial)\n",
    "library(RColorBrewer)\n",
    "library(ggpubr)\n",
    "\n",
    "library(Tempora)\n",
    "library(Seurat)\n",
    "library(RCurl)\n",
    "library(tidyverse)\n",
    "library(igraph)\n",
    "library(ggraph)\n",
    "library(graphlayouts)\n",
    "library(ggforce)\n",
    "library(scatterpie)\n",
    "library(RColorBrewer)\n",
    "library(igraph)\n",
    "library(ggrepel)\n",
    "library(stringr)\n",
    "library(scales)\n",
    "\n"
   ]
  },
  {
   "cell_type": "code",
   "execution_count": null,
   "metadata": {},
   "outputs": [],
   "source": [
    "save_plot = function(plotobj,outname, fig.width, fig.height)\n",
    "{\n",
    "  print(paste(outname, fig.width, fig.height))\n",
    "  \n",
    "  fname=paste(outname, \"png\", sep=\".\")\n",
    "  print(paste(\"Saving to file\", fname))\n",
    "  png(filename=fname, width = fig.width, height = fig.height, units = 'in', res = 300)#width = fig.width*100, height=fig.height*100)\n",
    "  plot(plotobj)\n",
    "  dev.off()\n",
    "  \n",
    "  fname=paste(outname, \"pdf\", sep=\".\")\n",
    "  print(paste(\"Saving to file\", fname))\n",
    "  pdf(file=fname, width = fig.width, height=fig.height)\n",
    "  plot(plotobj)\n",
    "  dev.off()\n",
    "  \n",
    "\n",
    "  fname=paste(outname, \"svg\", sep=\".\")\n",
    "  print(paste(\"Saving to file\", fname))\n",
    "  svglite::svglite(file = fname, width = fig.width, height = fig.height)\n",
    "  plot(plotobj)\n",
    "  dev.off()\n",
    "  \n",
    "  return(plotobj)\n",
    "}\n"
   ]
  },
  {
   "cell_type": "code",
   "execution_count": null,
   "metadata": {},
   "outputs": [],
   "source": [
    "obj.bulk=readRDS(\"bulk_seurat_obj.rds\")"
   ]
  },
  {
   "cell_type": "code",
   "execution_count": null,
   "metadata": {},
   "outputs": [],
   "source": [
    "cellnames = names(obj.bulk$orig.ident)\n",
    "\n",
    "mpoint = unlist(lapply(str_split(cellnames, \"_\"), function(x){return(x[3])}))\n",
    "mpoint[mpoint == \"tag4nl\"] = \"tag4\"\n",
    "\n",
    "mpoint_fact = factor(as.factor(mpoint), levels=c('ctrl','tag4', 'corkum','tag11','tag60'))\n",
    "\n",
    "\n",
    "mpoint[mpoint == \"tag4\"] = \"Day4\"\n",
    "mpoint[mpoint == \"tag11\"] = \"Day11\"\n",
    "mpoint[mpoint == \"tag60\"] = \"Day60\"\n",
    "mpoint[mpoint == \"ctrl\"] = \"Ctrl\"\n",
    "mpoint[mpoint == \"corkum\"] = \"Hosp.\"\n",
    "\n",
    "mpoint2_fact = factor(as.factor(mpoint), levels=c('Ctrl','Day4', 'Hosp.','Day11','Day60'))\n",
    "\n",
    "mpointcolors = as.vector(mpoint)\n",
    "mpointcolors[mpointcolors == \"Ctrl\"] = \"#1F1F1F\"\n",
    "mpointcolors[mpointcolors == \"Hosp.\"] = \"#E93A8D\"\n",
    "mpointcolors[mpointcolors == \"Day4\"] = \"#069038\"\n",
    "mpointcolors[mpointcolors == \"Day11\"] = \"#5DE223\"\n",
    "mpointcolors[mpointcolors == \"Day60\"] = \"#CCCFCF\"\n",
    "\n",
    "mpoint2Colors = c(\"#1F1F1F\", \"#069038\",\"#E93A8D\",\"#5DE223\",\"#CCCFCF\")\n",
    "\n",
    "obj.bulk$colors = mpointcolors\n",
    "\n",
    "obj.bulk$mpoint = mpoint_fact\n",
    "obj.bulk$mpoint2 = mpoint2_fact\n",
    "obj.bulk$celltype = obj.bulk$orig.ident\n",
    "\n",
    "obj.bulk$ct_time = paste(obj.bulk$celltype, obj.bulk$mpoint2)"
   ]
  },
  {
   "cell_type": "code",
   "execution_count": null,
   "metadata": {},
   "outputs": [],
   "source": [
    "DimPlot(obj.bulk, reduction=\"pca\", group.by=\"orig.ident\")"
   ]
  },
  {
   "cell_type": "code",
   "execution_count": null,
   "metadata": {},
   "outputs": [],
   "source": [
    "DimPlot(obj.bulk, reduction=\"pca\", group.by=\"mpoint2\", dims=c(2,3))"
   ]
  },
  {
   "cell_type": "code",
   "execution_count": null,
   "metadata": {},
   "outputs": [],
   "source": [
    "DimPlot(obj.bulk, reduction=\"umap\", group.by=\"orig.ident\")"
   ]
  },
  {
   "cell_type": "code",
   "execution_count": null,
   "metadata": {},
   "outputs": [],
   "source": [
    "p=DimPlot(obj.bulk, reduction=\"pca\", group.by=\"orig.ident\")\n",
    "save_plot(p, \"bulk_dimplots/pca_origident\", 8, 8)"
   ]
  },
  {
   "cell_type": "code",
   "execution_count": null,
   "metadata": {},
   "outputs": [],
   "source": [
    "p=DimPlot(obj.bulk, reduction=\"umap\", group.by=\"orig.ident\")\n",
    "save_plot(p, \"bulk_dimplots/umap_origident\", 8, 8)"
   ]
  },
  {
   "cell_type": "code",
   "execution_count": null,
   "metadata": {},
   "outputs": [],
   "source": [
    "p=DimPlot(obj.bulk, reduction=\"pca\", group.by=\"mpoint2\")+scale_color_manual(values = mpoint2Colors)\n",
    "save_plot(p, \"bulk_dimplots/pca_mpoint2\", 8, 8)"
   ]
  },
  {
   "cell_type": "code",
   "execution_count": null,
   "metadata": {},
   "outputs": [],
   "source": [
    "p=DimPlot(obj.bulk, reduction=\"umap\", group.by=\"mpoint2\")+scale_color_manual(values = mpoint2Colors)\n",
    "save_plot(p, \"bulk_dimplots/umap_mpoint2\", 8, 8)"
   ]
  },
  {
   "cell_type": "code",
   "execution_count": null,
   "metadata": {},
   "outputs": [],
   "source": [
    "obj.bulk = suppressWarnings(JackStraw(obj.bulk))"
   ]
  },
  {
   "cell_type": "code",
   "execution_count": null,
   "metadata": {},
   "outputs": [],
   "source": [
    "obj.bulk = suppressWarnings(JackStraw(obj.bulk))\n",
    "length(PCASigGenes(obj.bulk, pcs.use = c(2)))"
   ]
  },
  {
   "cell_type": "code",
   "execution_count": null,
   "metadata": {},
   "outputs": [],
   "source": [
    "length(unique(interferonGenes))"
   ]
  },
  {
   "cell_type": "code",
   "execution_count": null,
   "metadata": {},
   "outputs": [],
   "source": [
    "obj.bulk = suppressWarnings(JackStraw(obj.bulk))\n",
    "length(PCASigGenes(obj.bulk, pcs.use = c(2)))\n",
    "for (i in 1:30)\n",
    "{\n",
    " pcaIgenes = PCASigGenes(obj.bulk, pcs.use = c(i), pval.cut=0.01, max.per.pc = 100)    \n",
    "    \n",
    "    print(paste(i, length(pcaIgenes), length(intersect(pcaIgenes, interferonGenes))))\n",
    "}"
   ]
  },
  {
   "cell_type": "code",
   "execution_count": null,
   "metadata": {},
   "outputs": [],
   "source": [
    "pcaGenes = PCASigGenes(obj.bulk, pcs.use = c(2), max.per.pc=500, pval.cut=0.001)"
   ]
  },
  {
   "cell_type": "code",
   "execution_count": null,
   "metadata": {},
   "outputs": [],
   "source": [
    "p=DoHeatmap(obj.bulk, features = sort(pcaGenes), group.by=\"ct_time\")\n",
    "save_plot(p, \"bulk_dimplots/pcagenes_heatmap\", 20, 40)"
   ]
  },
  {
   "cell_type": "code",
   "execution_count": null,
   "metadata": {},
   "outputs": [],
   "source": [
    "interferonGenes = c(\"MT2A\", \"ISG15\", \"LY6E\", \"IFIT1\", \"IFIT2\", \"IFIT3\", \"IFITM1\", \"IFITM3\", \"IFI44L\", \"IFI6\", \"MX1\", \"IFI27\",  \"IFI44L\", \"RSAD2\", \"SIGLEC1\", \"IFIT1\", \"ISG15\")"
   ]
  },
  {
   "cell_type": "code",
   "execution_count": null,
   "metadata": {},
   "outputs": [],
   "source": [
    "p=DoHeatmap(obj.bulk, features = sort(interferonGenes), group.by=\"ct_time\")\n",
    "save_plot(p, \"bulk_dimplots/isg_heatmap\", 15, 15)"
   ]
  },
  {
   "cell_type": "code",
   "execution_count": null,
   "metadata": {},
   "outputs": [],
   "source": [
    "p=DotPlot(obj.bulk, features = sort(unique(interferonGenes)), group.by=\"ct_time\")+ coord_flip()+  theme(axis.text.x = element_text(angle=90, vjust=.5, hjust=1))\n",
    "save_plot(p, \"bulk_dimplots/isg_dotplot\", 15, 15)"
   ]
  },
  {
   "cell_type": "code",
   "execution_count": null,
   "metadata": {},
   "outputs": [],
   "source": [
    "unique(obj.bulk$ctmp)"
   ]
  },
  {
   "cell_type": "code",
   "execution_count": null,
   "metadata": {},
   "outputs": [],
   "source": [
    "plotUMAPDistr = function(selCelltype, title=NULL)\n",
    "{\n",
    "    obj.plot = subset(obj.bulk, orig.ident == selCelltype)\n",
    "    print(obj.plot)\n",
    "p=DimPlot(obj.plot, reduction=\"umap\", group.by=\"mpoint2\") + theme(legend.position=\"bottom\")+labs(title=element_blank(),suptitle=element_blank())\n",
    "p$data$ct_time = obj.plot$ct_time\n",
    "p$data$colors = obj.plot$colors\n",
    "p = p+scale_color_manual(values = mpoint2Colors)\n",
    "\n",
    "dens1 <- ggplot(p$data, aes(x = UMAP_1, fill = mpoint2))+scale_fill_manual(values = mpoint2Colors) + \n",
    "  geom_density(alpha = 0.4) + \n",
    "  theme_void() + \n",
    "  theme(legend.position = \"none\")\n",
    "\n",
    "dens2 <- ggplot(p$data, aes(x = UMAP_2, fill = mpoint2))+scale_fill_manual(values = mpoint2Colors) + \n",
    "  geom_density(alpha = 0.4) + \n",
    "  theme_void() + \n",
    "  theme(legend.position = \"none\") + \n",
    "  coord_flip()\n",
    "\n",
    "mp = dens1 + plot_spacer() + p + dens2 + plot_layout(ncol = 2, nrow = 2, widths = c(4, 1), heights = c(1, 4))\n",
    "\n",
    "    if (is.null(title))\n",
    "        {\n",
    "        title=selCelltype\n",
    "    }\n",
    "    \n",
    "title <- ggdraw() + draw_label(title, fontface='bold')\n",
    "p=cowplot::plot_grid(title, mp, ncol = 1, rel_heights = c(0.05, 1) )\n",
    "    return(p)\n",
    "}\n",
    "\n",
    "\n",
    "for (celltype in unique(obj.bulk$orig.ident))\n",
    "{\n",
    "    p=plotUMAPDistr(celltype)\n",
    "    save_plot(p, paste(\"bulk_dimplots/umap_\", celltype, sep=\"\"), 8, 8)\n",
    "    plot(p)\n",
    "}"
   ]
  },
  {
   "cell_type": "code",
   "execution_count": null,
   "metadata": {},
   "outputs": [],
   "source": [
    "plotPCADistr = function(selCelltype, title=NULL)\n",
    "{\n",
    "    obj.plot = subset(obj.bulk, orig.ident == selCelltype)\n",
    "    print(obj.plot)\n",
    "p=DimPlot(obj.plot, reduction=\"pca\", group.by=\"mpoint2\") + theme(legend.position=\"bottom\")+labs(title=element_blank(),suptitle=element_blank())\n",
    "p$data$ct_time = obj.plot$ct_time\n",
    "p$data$colors = obj.plot$colors\n",
    "p = p+scale_color_manual(values = mpoint2Colors)\n",
    "\n",
    "dens1 <- ggplot(p$data, aes(x = PC_1, fill = mpoint2))+scale_fill_manual(values = mpoint2Colors) + \n",
    "  geom_density(alpha = 0.4) + \n",
    "  theme_void() + \n",
    "  theme(legend.position = \"none\")\n",
    "\n",
    "dens2 <- ggplot(p$data, aes(x = PC_2, fill = mpoint2))+scale_fill_manual(values = mpoint2Colors) + \n",
    "  geom_density(alpha = 0.4) + \n",
    "  theme_void() + \n",
    "  theme(legend.position = \"none\") + \n",
    "  coord_flip()\n",
    "\n",
    "mp = dens1 + plot_spacer() + p + dens2 + plot_layout(ncol = 2, nrow = 2, widths = c(4, 1), heights = c(1, 4))\n",
    "\n",
    "    if (is.null(title))\n",
    "        {\n",
    "        title=selCelltype\n",
    "    }\n",
    "    \n",
    "title <- ggdraw() + draw_label(title, fontface='bold')\n",
    "p=cowplot::plot_grid(title, mp, ncol = 1, rel_heights = c(0.05, 1) )\n",
    "    return(p)\n",
    "}\n",
    "\n",
    "\n",
    "for (celltype in unique(obj.bulk$orig.ident))\n",
    "{\n",
    "    p=plotPCADistr(celltype)\n",
    "    save_plot(p, paste(\"bulk_dimplots/pca_\", celltype, sep=\"\"), 8, 8)\n",
    "    plot(p)\n",
    "}"
   ]
  },
  {
   "cell_type": "code",
   "execution_count": null,
   "metadata": {},
   "outputs": [],
   "source": [
    "library(ggpubr)\n",
    "library(patchwork)"
   ]
  },
  {
   "cell_type": "code",
   "execution_count": null,
   "metadata": {},
   "outputs": [],
   "source": [
    "obj.plot = obj.bulk\n",
    "print(obj.plot)\n",
    "p=DimPlot(obj.plot, reduction=\"pca\", group.by=\"mpoint2\", dims=c(2,3)) + theme(legend.position=\"bottom\")+labs(title=element_blank(),suptitle=element_blank())\n",
    "p$data$ct_time = obj.plot$ct_time\n",
    "p$data$colors = obj.plot$colors\n",
    "p = p+scale_color_manual(values = mpoint2Colors)\n",
    "\n",
    "dens1 <- ggplot(p$data, aes(x = PC_2, fill = mpoint2))+scale_fill_manual(values = mpoint2Colors) + \n",
    "  geom_density(alpha = 0.4) + \n",
    "  theme_void() + \n",
    "  theme(legend.position = \"none\")\n",
    "\n",
    "dens2 <- ggplot(p$data, aes(x = PC_3, fill = mpoint2))+scale_fill_manual(values = mpoint2Colors) + \n",
    "  geom_density(alpha = 0.4) + \n",
    "  theme_void() + \n",
    "  theme(legend.position = \"none\") + \n",
    "  coord_flip()\n",
    "\n",
    "mp = dens1 + plot_spacer() + p + dens2 + plot_layout(ncol = 2, nrow = 2, widths = c(4, 1), heights = c(1, 4))\n",
    "\n",
    "    if (is.null(title))\n",
    "        {\n",
    "        title=selCelltype\n",
    "    }\n",
    "    \n",
    "title <- ggdraw() + draw_label(\"\", fontface='bold')\n",
    "p=cowplot::plot_grid(title, mp, ncol = 1, rel_heights = c(0.05, 1) )\n",
    "\n",
    "save_plot(p, paste(\"bulk_dimplots/pca_2_3\", sep=\"\"), 8, 8)\n"
   ]
  },
  {
   "cell_type": "code",
   "execution_count": null,
   "metadata": {},
   "outputs": [],
   "source": [
    "p=DimPlot(obj.bulk, reduction=\"pca\", group.by=\"orig.ident\", dims=c(2,3))\n",
    "save_plot(p, paste(\"bulk_dimplots/pca_origident_2_3\", sep=\"\"), 8, 8)\n"
   ]
  },
  {
   "cell_type": "code",
   "execution_count": null,
   "metadata": {},
   "outputs": [],
   "source": []
  },
  {
   "cell_type": "code",
   "execution_count": null,
   "metadata": {},
   "outputs": [],
   "source": []
  }
 ],
 "metadata": {
  "kernelspec": {
   "display_name": "R",
   "language": "R",
   "name": "ir"
  },
  "language_info": {
   "codemirror_mode": "r",
   "file_extension": ".r",
   "mimetype": "text/x-r-source",
   "name": "R",
   "pygments_lexer": "r",
   "version": "4.0.3"
  }
 },
 "nbformat": 4,
 "nbformat_minor": 4
}
